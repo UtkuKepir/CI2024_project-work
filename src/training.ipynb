{
 "cells": [
  {
   "cell_type": "code",
   "execution_count": 1,
   "metadata": {},
   "outputs": [],
   "source": [
    "import numpy as np"
   ]
  },
  {
   "cell_type": "code",
   "execution_count": 3,
   "metadata": {},
   "outputs": [],
   "source": [
    "class Node:\n",
    "\n",
    "    def __init__(self, value, left = None, right = None):\n",
    "        self.value = value\n",
    "        self.left  = left\n",
    "        self.right = right\n",
    "\n",
    "    def evaluate(self, x: np.ndarray):\n",
    "        if self.value in ['+', '-', '*', '/', '^']:\n",
    "            left = self.left.evaluate(x) \n",
    "            right = self.right.evaluate(x) if self.right else 1\n",
    "\n",
    "            try:\n",
    "                if self.value == '+':\n",
    "                    return left + right\n",
    "                elif self.value == '-':\n",
    "                    return left - right\n",
    "                elif self.value == '*':\n",
    "                    return left * right\n",
    "                elif self.value == '/':\n",
    "                    if np.abs(right) < 1e-10:\n",
    "                        return float('inf')\n",
    "                    return left / right\n",
    "                elif self.value == '^':\n",
    "                    if np.any(left < 0) and np.any(np.mod(right, 1) != 0):  #(-5^0.2, -5 undefined)\n",
    "                        return float('inf') \n",
    "                    return np.power(left, right)\n",
    "            except:\n",
    "                return float('inf')\n",
    "\n",
    "        elif self.value in ['sin', 'cos', 'tan', 'sigmoid', 'exp', 'log', 'sqrt', 'inv']:\n",
    "            left = self.left.evaluate(x) \n",
    "\n",
    "            try:\n",
    "                if self.value == 'sin':\n",
    "                    return np.sin(left)\n",
    "                elif self.value == 'cos':\n",
    "                    return np.cos(left)\n",
    "                elif self.value == 'tan':\n",
    "                    return np.tan(left)\n",
    "                elif self.value == 'sigmoid':\n",
    "                    return 1/(1 + np.exp(-left))\n",
    "                elif self.value == 'exp':\n",
    "                    return np.exp(left) if np.all(left < 1000) else float('inf')\n",
    "                elif self.value == 'log':\n",
    "                    if np.any(right <= 0):\n",
    "                        return -float('inf')\n",
    "                    return np.log(left) \n",
    "                elif self.value == 'sqrt':\n",
    "                    if np.any(left < 0):\n",
    "                        return -float('inf')\n",
    "                    return np.sqrt(left) \n",
    "                elif self.value == 'inv':\n",
    "                    if np.any(left == 0):\n",
    "                        return float('inf')\n",
    "                    return 1/left\n",
    "            except:\n",
    "                return float('inf') \n",
    "        \n",
    "        else:\n",
    "            try:\n",
    "                if isinstance(self.value, str) and self.value.startswith('x['):\n",
    "                    index = int(self.value[2:-1])\n",
    "                    return x[index]\n",
    "            except:\n",
    "                return float('inf')\n",
    "\n",
    "    \n",
    "    def count_nodes(self):\n",
    "        count = 1\n",
    "        if self.left:\n",
    "            count += self.left.count_nodes()\n",
    "        elif self.right:\n",
    "            count += self.right.count_nodes()\n",
    "        return count\n",
    "        \n",
    "    def __str__(self) -> str:\n",
    "        if self.left and self.right:\n",
    "            return f\"({str(self.left)} {self.value} {str(self.right)})\"\n",
    "        elif self.left:\n",
    "            return f\"{self.value}({str(self.left)})\"\n",
    "        else:\n",
    "            return str(self.value)"
   ]
  },
  {
   "cell_type": "code",
   "execution_count": 4,
   "metadata": {},
   "outputs": [],
   "source": [
    "class Genetic_Programming:\n",
    "    \n",
    "    def __init__(self, pop_size: int, num_gen: int):\n",
    "        self.pop_size = pop_size\n",
    "        self.num_gen = num_gen\n",
    "        self.population = []\n",
    "        self.age = []\n",
    "\n",
    "    def generate_random_tree(self, depth: int, shape: int, required_vars: set) -> Node:\n",
    "        if depth == 0:\n",
    "            if required_vars:\n",
    "                choice = required_vars.pop()  \n",
    "                return Node(choice)\n",
    "            else:\n",
    "                if np.random.random() < 0.05:\n",
    "                    choice = 'x[' + str(np.random.randint(0, shape)) + ']'\n",
    "                    return Node(choice)\n",
    "                else:\n",
    "                    choice = np.random.random_sample()\n",
    "                    return Node(float(choice))\n",
    "\n",
    "        else:\n",
    "            operator_choices = np.array(['+', '-', '*', '/', 'sin', 'cos', 'tan', 'sigmoid', 'exp', 'inv']) # 'log', 'sqrt', '^' neglegted because i do not see any improvement for these operators for our datasets. \n",
    "            operator = np.random.choice(operator_choices)\n",
    "            if operator in ['+', '-', '*', '/']:\n",
    "                left = self.generate_random_tree(depth - 1, shape, required_vars)\n",
    "                right = self.generate_random_tree(depth - 1, shape, required_vars)\n",
    "\n",
    "                if required_vars:\n",
    "                    missing_var = required_vars.pop()\n",
    "                    right = Node('+', left=right, right=Node(missing_var))\n",
    "            \n",
    "                return Node(operator, left=left, right=right)\n",
    "            \n",
    "            else:\n",
    "                return Node(operator, left=self.generate_random_tree(depth - 1, shape, required_vars))\n",
    "     \n",
    "    def initialize_population(self, depth: int, shape: int, required_vars: set):\n",
    "        while len(self.population) < self.pop_size:\n",
    "            \n",
    "            tree_required_vars = required_vars.copy()\n",
    "            tree = self.generate_random_tree(depth, shape, tree_required_vars)\n",
    "\n",
    "            while tree_required_vars:  \n",
    "                missing_var = tree_required_vars.pop()\n",
    "                tree = Node('+', left=tree, right=Node(missing_var))\n",
    "\n",
    "            self.population.append(tree)\n",
    "            self.age.append(0)\n",
    "\n",
    "    def fitness(self, individual: Node, x_train: np.ndarray, y_train: np.ndarray, alpha =1.0, beta=0.05) -> float:\n",
    "        n_samples = x_train.shape[1]\n",
    "        index = int(0.8 * n_samples)\n",
    "        \n",
    "        x_train_splitted = x_train[:, :index]\n",
    "        y_train_splitted = y_train[:index]\n",
    "        x_val = x_train[:, index:]\n",
    "        y_val = y_train[index:]\n",
    "\n",
    "        y_predictions_train = np.array([individual.evaluate(x) for x in x_train_splitted.T])\n",
    "        y_predictions_val = np.array([individual.evaluate(x) for x in x_val.T])\n",
    "\n",
    "        mse_train = np.mean((y_train_splitted - y_predictions_train) ** 2)\n",
    "        mse_val = np.mean((y_val - y_predictions_val) ** 2)\n",
    "        mse = 0.8 * mse_train + 0.2 * mse_val\n",
    "        \n",
    "        complexity = individual.count_nodes()\n",
    "        \n",
    "        fitness = alpha * mse + beta * complexity\n",
    "        return fitness\n",
    "    \n",
    "    def parent1_and_parent2_selection(self, x_train: np.ndarray, y_train: np.ndarray) -> tuple[Node, Node]:\n",
    "        indices = np.random.choice(self.pop_size, 20, replace=False)\n",
    "        fitness_values = np.array([self.fitness(self.population[i], x_train, y_train) for i in indices])\n",
    "\n",
    "        valid_mask = np.isfinite(fitness_values) \n",
    "        valid_indices = indices[valid_mask]\n",
    "        valid_fitness_values = fitness_values[valid_mask]\n",
    "        \n",
    "        fitness_values_shifted = valid_fitness_values - valid_fitness_values.min()  #reducing selective pressure\n",
    "        selection_probabilities = np.exp(-fitness_values_shifted)\n",
    "        selection_probabilities += 1e-10 #non-zero probabilities\n",
    "        selection_probabilities /= selection_probabilities.sum()\n",
    "        non_zero_probs = np.count_nonzero(selection_probabilities)\n",
    "\n",
    "        if non_zero_probs < 2:\n",
    "            selected_indices = np.random.choice(valid_indices, size=2)\n",
    "        else:\n",
    "            selected_indices = np.random.choice(valid_indices, size=2, p=selection_probabilities)  #roulette wheel selection\n",
    "                \n",
    "        parent1 = self.population[selected_indices[0]]\n",
    "        parent2 = self.population[selected_indices[1]]\n",
    "\n",
    "        return parent1, parent2\n",
    "\n",
    "    # def mutation(self, individual: Node, depth: int) -> Node:\n",
    "    #     a = np.random.rand()\n",
    "    #     if individual.value in ['+', '-', '*', '/', '^']:\n",
    "    #         if a < 0.33:\n",
    "    #             left = self.mutation(individual.left, depth - 1) if individual.left else None\n",
    "    #             right = self.mutation(individual.right, depth - 1) if individual.right else None\n",
    "    #             return Node(individual.value, left=left, right=right) \n",
    "    #         elif a >= 0.33 and a < 0.66:\n",
    "    #             left = self.mutation(individual.left, depth - 1) if individual.left else None\n",
    "    #             return Node(individual.value, left=left, right=individual.right) \n",
    "    #         else:\n",
    "    #             right = self.mutation(individual.right, depth - 1) if individual.right else None\n",
    "    #             return Node(individual.value, left=individual.left, right=right)\n",
    "    #     elif individual.value in ['sin', 'cos', 'tan', 'sigmoid', 'exp', 'log', 'sqrt', 'inv']:\n",
    "    #         left = self.mutation(individual.left, depth - 1) if individual.left else None\n",
    "    #         return Node(individual.value, left=left)\n",
    "    #     else:\n",
    "    #         return individual\n",
    "            \n",
    "    def xover(self, parent1: Node, parent2: Node) -> Node:\n",
    "        a = np.random.rand()\n",
    "        if a < 0.25:\n",
    "            return Node(parent1.value, left=parent1.left, right=parent2.right)\n",
    "        elif a >= 0.25 and a < 0.5:\n",
    "            return Node(parent1.value, left=parent2.left, right=parent1.right)\n",
    "        elif a >= 0.5 and a < 0.75:\n",
    "            return Node(parent2.value, left=parent1.left, right=parent2.right)\n",
    "        else:\n",
    "            return Node(parent2.value, left=parent2.left, right=parent1.right)\n",
    "    \n",
    "    def evolve(self, shape: int, x_train: np.ndarray, y_train: np.ndarray) -> Node:\n",
    "\n",
    "        best_individual: Node = None\n",
    "        depths = [np.random.randint(1, 4) for _ in range(self.pop_size)]\n",
    "        required_vars = set(f'x[{i}]' for i in range(shape))\n",
    "        self.initialize_population(max(depths), shape, required_vars)\n",
    "\n",
    "        fitness_values = [self.fitness(individual, x_train, y_train) for individual in self.population]\n",
    "        fitness_values = [fit if np.isfinite(fit) else float('inf') for fit in fitness_values] #avoid nan values\n",
    "        best_fitness_value = min(fitness_values)\n",
    "        best_individual = self.population[np.argmin(fitness_values)]\n",
    "\n",
    "        temperature = 2000\n",
    "        cooling_rate = 0.9\n",
    "\n",
    "        for generation in range(self.num_gen):\n",
    "            print(f\"Generation_ {generation} Best fitness: {best_fitness_value} Best tree: {best_individual}\")\n",
    "\n",
    "            for _ in range(self.pop_size // 2):\n",
    "                parent1, parent2 = self.parent1_and_parent2_selection(x_train, y_train)\n",
    "                # a =  np.random.rand()\n",
    "                # if a < 0.95:\n",
    "                #     offspring = self.xover(parent1, parent2)\n",
    "                # elif a >= 0.95 and a < 0.97:\n",
    "                #     mutation_depth1 = np.random.randint(1, 4)\n",
    "                #     offspring = self.mutation(parent1, mutation_depth1)\n",
    "                # else:\n",
    "                #     mutation_depth2 = np.random.randint(1, 4)\n",
    "                #     offspring = self.mutation(parent2, mutation_depth2)\n",
    "\n",
    "                offspring = self.xover(parent1, parent2)\n",
    "\n",
    "                \n",
    "                offspring_fitness = self.fitness(offspring, x_train, y_train)\n",
    "                if not np.isfinite(offspring_fitness):\n",
    "                    continue\n",
    "\n",
    "                delta_fitness = best_fitness_value - offspring_fitness\n",
    "\n",
    "                if delta_fitness > 0 or np.random.rand() < np.exp(delta_fitness / temperature):\n",
    "                    oldest_index = np.argmax(self.age)  \n",
    "                    self.population[oldest_index] = offspring\n",
    "                    self.age[oldest_index] = 0\n",
    "\n",
    "                    if offspring_fitness < best_fitness_value:\n",
    "                        best_fitness_value = offspring_fitness\n",
    "                        best_individual = offspring\n",
    "\n",
    "            temperature *= cooling_rate  \n",
    "            self.age = [age + 1 for age in self.age]\n",
    "\n",
    "            for _ in range(50): #add new random individuals for each generation\n",
    "                tree_required_vars = required_vars.copy()\n",
    "                new_tree = self.generate_random_tree(np.random.randint(1, 4), shape, tree_required_vars)\n",
    "\n",
    "                while tree_required_vars: \n",
    "                    missing_var = tree_required_vars.pop()\n",
    "                    new_tree = Node('+', left=new_tree, right=Node(missing_var)) \n",
    "\n",
    "                self.population.append(new_tree)\n",
    "                self.age.append(0)\n",
    "                self.pop_size += 1\n",
    "\n",
    "            fitness_values = [self.fitness(individual, x_train, y_train) for individual in self.population]\n",
    "            fitness_values = [fit if np.isfinite(fit) else float('inf') for fit in fitness_values]\n",
    "\n",
    "        return best_individual, best_fitness_value"
   ]
  },
  {
   "cell_type": "code",
   "execution_count": null,
   "metadata": {},
   "outputs": [],
   "source": [
    "# problem = np.load(f'../data/problem_0.npz')\n",
    "# x_train = problem['x']\n",
    "# y_train = problem['y']\n",
    "# ga = Genetic_Programming(300, 20)\n",
    "# shape = x_train.shape[0]\n",
    "# print('shape:', shape)\n",
    "# best_tree, best_fitness = ga.evolve(shape, x_train, y_train)\n",
    "# print(f\"Best tree_0: {best_tree} Best fitness_0: {best_fitness}\")"
   ]
  },
  {
   "cell_type": "code",
   "execution_count": 7,
   "metadata": {},
   "outputs": [
    {
     "name": "stdout",
     "output_type": "stream",
     "text": [
      "shape: 1\n"
     ]
    },
    {
     "name": "stderr",
     "output_type": "stream",
     "text": [
      "C:\\Users\\utkuk\\AppData\\Local\\Temp\\ipykernel_11476\\2995611080.py:36: RuntimeWarning: invalid value encountered in sin\n",
      "  return np.sin(left)\n",
      "C:\\Users\\utkuk\\AppData\\Local\\Temp\\ipykernel_11476\\2995611080.py:17: RuntimeWarning: invalid value encountered in scalar subtract\n",
      "  return left - right\n",
      "C:\\Users\\utkuk\\AppData\\Local\\Temp\\ipykernel_11476\\2995611080.py:40: RuntimeWarning: invalid value encountered in tan\n",
      "  return np.tan(left)\n",
      "C:\\Users\\utkuk\\AppData\\Local\\Temp\\ipykernel_11476\\2995611080.py:38: RuntimeWarning: invalid value encountered in cos\n",
      "  return np.cos(left)\n",
      "C:\\Users\\utkuk\\AppData\\Local\\Temp\\ipykernel_11476\\2995611080.py:23: RuntimeWarning: invalid value encountered in scalar divide\n",
      "  return left / right\n"
     ]
    },
    {
     "name": "stdout",
     "output_type": "stream",
     "text": [
      "Generation_ 0 Best fitness: 0.2 Best tree: inv(inv(sin(x[0])))\n",
      "Generation_ 1 Best fitness: 0.2 Best tree: inv(inv(sin(x[0])))\n"
     ]
    },
    {
     "name": "stderr",
     "output_type": "stream",
     "text": [
      "C:\\Users\\utkuk\\AppData\\Local\\Temp\\ipykernel_11476\\2995611080.py:19: RuntimeWarning: invalid value encountered in scalar multiply\n",
      "  return left * right\n"
     ]
    },
    {
     "name": "stdout",
     "output_type": "stream",
     "text": [
      "Generation_ 2 Best fitness: 0.10328154522389471 Best tree: /(x[0])\n",
      "Generation_ 3 Best fitness: 0.1 Best tree: sin(x[0])\n",
      "Generation_ 4 Best fitness: 0.1 Best tree: sin(x[0])\n",
      "Generation_ 5 Best fitness: 0.1 Best tree: sin(x[0])\n",
      "Generation_ 6 Best fitness: 0.1 Best tree: sin(x[0])\n",
      "Generation_ 7 Best fitness: 0.1 Best tree: sin(x[0])\n",
      "Generation_ 8 Best fitness: 0.1 Best tree: sin(x[0])\n",
      "Generation_ 9 Best fitness: 0.1 Best tree: sin(x[0])\n",
      "Generation_ 10 Best fitness: 0.1 Best tree: sin(x[0])\n",
      "Generation_ 11 Best fitness: 0.1 Best tree: sin(x[0])\n",
      "Generation_ 12 Best fitness: 0.1 Best tree: sin(x[0])\n",
      "Generation_ 13 Best fitness: 0.1 Best tree: sin(x[0])\n"
     ]
    },
    {
     "name": "stderr",
     "output_type": "stream",
     "text": [
      "C:\\Users\\utkuk\\AppData\\Local\\Temp\\ipykernel_11476\\2995611080.py:15: RuntimeWarning: invalid value encountered in scalar add\n",
      "  return left + right\n"
     ]
    },
    {
     "name": "stdout",
     "output_type": "stream",
     "text": [
      "Generation_ 14 Best fitness: 0.1 Best tree: sin(x[0])\n",
      "Generation_ 15 Best fitness: 0.1 Best tree: sin(x[0])\n",
      "Generation_ 16 Best fitness: 0.1 Best tree: sin(x[0])\n",
      "Generation_ 17 Best fitness: 0.1 Best tree: sin(x[0])\n",
      "Generation_ 18 Best fitness: 0.1 Best tree: sin(x[0])\n",
      "Generation_ 19 Best fitness: 0.1 Best tree: sin(x[0])\n",
      "Best tree_1: sin(x[0]) Best fitness_1: 0.1\n"
     ]
    }
   ],
   "source": [
    "problem = np.load(f'../data/problem_1.npz')\n",
    "x_train = problem['x']\n",
    "y_train = problem['y']\n",
    "ga = Genetic_Programming(300, 20)\n",
    "shape = x_train.shape[0]\n",
    "print('shape:', shape)\n",
    "best_tree, best_fitness = ga.evolve(shape, x_train, y_train)\n",
    "print(f\"Best tree_1: {best_tree} Best fitness_1: {best_fitness}\")"
   ]
  },
  {
   "cell_type": "code",
   "execution_count": 6,
   "metadata": {},
   "outputs": [
    {
     "name": "stdout",
     "output_type": "stream",
     "text": [
      "shape: 3\n"
     ]
    },
    {
     "name": "stderr",
     "output_type": "stream",
     "text": [
      "C:\\Users\\utkuk\\AppData\\Local\\Temp\\ipykernel_24544\\2995611080.py:19: RuntimeWarning: invalid value encountered in scalar multiply\n",
      "  return left * right\n",
      "C:\\Users\\utkuk\\AppData\\Local\\Temp\\ipykernel_24544\\2995611080.py:36: RuntimeWarning: invalid value encountered in sin\n",
      "  return np.sin(left)\n",
      "C:\\Users\\utkuk\\AppData\\Local\\Temp\\ipykernel_24544\\2995611080.py:15: RuntimeWarning: invalid value encountered in scalar add\n",
      "  return left + right\n",
      "C:\\Users\\utkuk\\AppData\\Local\\Temp\\ipykernel_24544\\2995611080.py:42: RuntimeWarning: overflow encountered in exp\n",
      "  return 1/(1 + np.exp(-left))\n",
      "C:\\Users\\utkuk\\AppData\\Local\\Temp\\ipykernel_24544\\2995611080.py:40: RuntimeWarning: invalid value encountered in tan\n",
      "  return np.tan(left)\n",
      "C:\\Users\\utkuk\\AppData\\Local\\Temp\\ipykernel_24544\\3767947078.py:63: RuntimeWarning: overflow encountered in square\n",
      "  mse_train = np.mean((y_train_splitted - y_predictions_train) ** 2)\n",
      "C:\\Users\\utkuk\\AppData\\Local\\Temp\\ipykernel_24544\\2995611080.py:38: RuntimeWarning: invalid value encountered in cos\n",
      "  return np.cos(left)\n",
      "C:\\Users\\utkuk\\AppData\\Local\\Temp\\ipykernel_24544\\2995611080.py:44: RuntimeWarning: overflow encountered in exp\n",
      "  return np.exp(left) if np.all(left < 1000) else float('inf')\n",
      "C:\\Users\\utkuk\\AppData\\Local\\Temp\\ipykernel_24544\\3767947078.py:64: RuntimeWarning: overflow encountered in square\n",
      "  mse_val = np.mean((y_val - y_predictions_val) ** 2)\n",
      "C:\\Users\\utkuk\\AppData\\Local\\Temp\\ipykernel_24544\\2995611080.py:17: RuntimeWarning: invalid value encountered in scalar subtract\n",
      "  return left - right\n"
     ]
    },
    {
     "name": "stdout",
     "output_type": "stream",
     "text": [
      "Generation_ 0 Best fitness: 29575308534880.043 Best tree: inv(exp((x[0] + (x[1] + x[2]))))\n",
      "Generation_ 1 Best fitness: 29575308534880.043 Best tree: inv(exp((x[0] + (x[1] + x[2]))))\n",
      "Generation_ 2 Best fitness: 29575308534880.043 Best tree: inv(exp((x[0] + (x[1] + x[2]))))\n",
      "Generation_ 3 Best fitness: 29575308534880.043 Best tree: inv(exp((x[0] + (x[1] + x[2]))))\n",
      "Generation_ 4 Best fitness: 29575308534880.043 Best tree: inv(exp((x[0] + (x[1] + x[2]))))\n",
      "Generation_ 5 Best fitness: 29575308534880.043 Best tree: inv(exp((x[0] + (x[1] + x[2]))))\n",
      "Generation_ 6 Best fitness: 29575308534880.043 Best tree: inv(exp((x[0] + (x[1] + x[2]))))\n",
      "Generation_ 7 Best fitness: 29575308534880.043 Best tree: inv(exp((x[0] + (x[1] + x[2]))))\n",
      "Generation_ 8 Best fitness: 29575308534880.043 Best tree: inv(exp((x[0] + (x[1] + x[2]))))\n"
     ]
    },
    {
     "name": "stderr",
     "output_type": "stream",
     "text": [
      "C:\\Users\\utkuk\\AppData\\Local\\Temp\\ipykernel_24544\\2995611080.py:23: RuntimeWarning: invalid value encountered in scalar divide\n",
      "  return left / right\n"
     ]
    },
    {
     "name": "stdout",
     "output_type": "stream",
     "text": [
      "Generation_ 9 Best fitness: 29575308534880.043 Best tree: inv(exp((x[0] + (x[1] + x[2]))))\n",
      "Generation_ 10 Best fitness: 29575308534880.043 Best tree: inv(exp((x[0] + (x[1] + x[2]))))\n",
      "Generation_ 11 Best fitness: 29575308534880.043 Best tree: inv(exp((x[0] + (x[1] + x[2]))))\n",
      "Generation_ 12 Best fitness: 29575308534880.043 Best tree: inv(exp((x[0] + (x[1] + x[2]))))\n",
      "Generation_ 13 Best fitness: 29575308534880.043 Best tree: inv(exp((x[0] + (x[1] + x[2]))))\n",
      "Generation_ 14 Best fitness: 29575308534880.043 Best tree: inv(exp((x[0] + (x[1] + x[2]))))\n",
      "Generation_ 15 Best fitness: 29575308534880.043 Best tree: inv(exp((x[0] + (x[1] + x[2]))))\n",
      "Generation_ 16 Best fitness: 29575308429996.047 Best tree: inv(sigmoid((x[0] + (x[1] + x[2]))))\n",
      "Generation_ 17 Best fitness: 29575308429996.047 Best tree: inv(sigmoid((x[0] + (x[1] + x[2]))))\n",
      "Generation_ 18 Best fitness: 29575308429996.047 Best tree: inv(sigmoid((x[0] + (x[1] + x[2]))))\n",
      "Generation_ 19 Best fitness: 29575308429996.047 Best tree: inv(sigmoid((x[0] + (x[1] + x[2]))))\n",
      "Best tree_2: inv(sigmoid((x[0] + (x[1] + x[2])))) Best fitness_2: 29575308429996.047\n"
     ]
    }
   ],
   "source": [
    "problem = np.load(f'../data/problem_2.npz')\n",
    "x_train = problem['x']\n",
    "y_train = problem['y']\n",
    "ga = Genetic_Programming(300, 20)\n",
    "shape = x_train.shape[0]\n",
    "print('shape:', shape)\n",
    "best_tree, best_fitness = ga.evolve(shape, x_train, y_train)\n",
    "print(f\"Best tree_2: {best_tree} Best fitness_2: {best_fitness}\")"
   ]
  },
  {
   "cell_type": "code",
   "execution_count": 5,
   "metadata": {},
   "outputs": [
    {
     "name": "stdout",
     "output_type": "stream",
     "text": [
      "shape: 3\n"
     ]
    },
    {
     "name": "stderr",
     "output_type": "stream",
     "text": [
      "C:\\Users\\utkuk\\AppData\\Local\\Temp\\ipykernel_24544\\2995611080.py:42: RuntimeWarning: overflow encountered in exp\n",
      "  return 1/(1 + np.exp(-left))\n",
      "C:\\Users\\utkuk\\AppData\\Local\\Temp\\ipykernel_24544\\2995611080.py:36: RuntimeWarning: invalid value encountered in sin\n",
      "  return np.sin(left)\n",
      "C:\\Users\\utkuk\\AppData\\Local\\Temp\\ipykernel_24544\\2995611080.py:40: RuntimeWarning: invalid value encountered in tan\n",
      "  return np.tan(left)\n",
      "C:\\Users\\utkuk\\AppData\\Local\\Temp\\ipykernel_24544\\2995611080.py:44: RuntimeWarning: overflow encountered in exp\n",
      "  return np.exp(left) if np.all(left < 1000) else float('inf')\n",
      "C:\\Users\\utkuk\\AppData\\Local\\Temp\\ipykernel_24544\\3767947078.py:63: RuntimeWarning: overflow encountered in square\n",
      "  mse_train = np.mean((y_train_splitted - y_predictions_train) ** 2)\n",
      "C:\\Users\\utkuk\\AppData\\Local\\Temp\\ipykernel_24544\\3767947078.py:64: RuntimeWarning: overflow encountered in square\n",
      "  mse_val = np.mean((y_val - y_predictions_val) ** 2)\n",
      "C:\\Users\\utkuk\\AppData\\Local\\Temp\\ipykernel_24544\\2995611080.py:38: RuntimeWarning: invalid value encountered in cos\n",
      "  return np.cos(left)\n",
      "C:\\Users\\utkuk\\AppData\\Local\\Temp\\ipykernel_24544\\2995611080.py:23: RuntimeWarning: invalid value encountered in scalar divide\n",
      "  return left / right\n",
      "C:\\Users\\utkuk\\AppData\\Local\\Temp\\ipykernel_24544\\2995611080.py:56: RuntimeWarning: overflow encountered in scalar divide\n",
      "  return 1/left\n",
      "C:\\Users\\utkuk\\AppData\\Local\\Temp\\ipykernel_24544\\2995611080.py:17: RuntimeWarning: invalid value encountered in scalar subtract\n",
      "  return left - right\n"
     ]
    },
    {
     "name": "stdout",
     "output_type": "stream",
     "text": [
      "Generation_ 0 Best fitness: 2469.3256870293417 Best tree: ((exp(x[0]) + (sin(x[1]) + x[2])) / exp(exp(x[1])))\n"
     ]
    },
    {
     "name": "stderr",
     "output_type": "stream",
     "text": [
      "C:\\Users\\utkuk\\AppData\\Local\\Temp\\ipykernel_24544\\2995611080.py:15: RuntimeWarning: invalid value encountered in scalar add\n",
      "  return left + right\n"
     ]
    },
    {
     "name": "stdout",
     "output_type": "stream",
     "text": [
      "Generation_ 1 Best fitness: 2469.3256870293417 Best tree: ((exp(x[0]) + (sin(x[1]) + x[2])) / exp(exp(x[1])))\n",
      "Generation_ 2 Best fitness: 2469.3256870293417 Best tree: ((exp(x[0]) + (sin(x[1]) + x[2])) / exp(exp(x[1])))\n",
      "Generation_ 3 Best fitness: 2469.3256870293417 Best tree: ((exp(x[0]) + (sin(x[1]) + x[2])) / exp(exp(x[1])))\n",
      "Generation_ 4 Best fitness: 2469.3256870293417 Best tree: ((exp(x[0]) + (sin(x[1]) + x[2])) / exp(exp(x[1])))\n",
      "Generation_ 5 Best fitness: 2469.3256870293417 Best tree: ((exp(x[0]) + (sin(x[1]) + x[2])) / exp(exp(x[1])))\n",
      "Generation_ 6 Best fitness: 2469.3256870293417 Best tree: ((exp(x[0]) + (sin(x[1]) + x[2])) / exp(exp(x[1])))\n",
      "Generation_ 7 Best fitness: 2469.3256870293417 Best tree: ((exp(x[0]) + (sin(x[1]) + x[2])) / exp(exp(x[1])))\n",
      "Generation_ 8 Best fitness: 2469.3256870293417 Best tree: ((exp(x[0]) + (sin(x[1]) + x[2])) / exp(exp(x[1])))\n",
      "Generation_ 9 Best fitness: 2469.3256870293417 Best tree: ((exp(x[0]) + (sin(x[1]) + x[2])) / exp(exp(x[1])))\n",
      "Generation_ 10 Best fitness: 2469.3256870293417 Best tree: ((exp(x[0]) + (sin(x[1]) + x[2])) / exp(exp(x[1])))\n",
      "Generation_ 11 Best fitness: 2469.3256870293417 Best tree: ((exp(x[0]) + (sin(x[1]) + x[2])) / exp(exp(x[1])))\n",
      "Generation_ 12 Best fitness: 2469.3256870293417 Best tree: ((exp(x[0]) + (sin(x[1]) + x[2])) / exp(exp(x[1])))\n",
      "Generation_ 13 Best fitness: 2469.3256870293417 Best tree: ((exp(x[0]) + (sin(x[1]) + x[2])) / exp(exp(x[1])))\n",
      "Generation_ 14 Best fitness: 2469.3256870293417 Best tree: ((exp(x[0]) + (sin(x[1]) + x[2])) / exp(exp(x[1])))\n",
      "Generation_ 15 Best fitness: 2469.3256870293417 Best tree: ((exp(x[0]) + (sin(x[1]) + x[2])) / exp(exp(x[1])))\n",
      "Generation_ 16 Best fitness: 2469.3256870293417 Best tree: ((exp(x[0]) + (sin(x[1]) + x[2])) / exp(exp(x[1])))\n",
      "Generation_ 17 Best fitness: 2469.3256870293417 Best tree: ((exp(x[0]) + (sin(x[1]) + x[2])) / exp(exp(x[1])))\n"
     ]
    },
    {
     "name": "stderr",
     "output_type": "stream",
     "text": [
      "C:\\Users\\utkuk\\AppData\\Local\\Temp\\ipykernel_24544\\2995611080.py:19: RuntimeWarning: invalid value encountered in scalar multiply\n",
      "  return left * right\n"
     ]
    },
    {
     "name": "stdout",
     "output_type": "stream",
     "text": [
      "Generation_ 18 Best fitness: 2469.3256870293417 Best tree: ((exp(x[0]) + (sin(x[1]) + x[2])) / exp(exp(x[1])))\n",
      "Generation_ 19 Best fitness: 2469.3256870293417 Best tree: ((exp(x[0]) + (sin(x[1]) + x[2])) / exp(exp(x[1])))\n",
      "Best tree_3: (cos(tan(x[0])) + (inv(sigmoid(x[1])) + x[2])) Best fitness_3: 1323.0501087233956\n"
     ]
    }
   ],
   "source": [
    "problem = np.load(f'../data/problem_3.npz')\n",
    "x_train = problem['x']\n",
    "y_train = problem['y']\n",
    "ga = Genetic_Programming(300, 20)\n",
    "shape = x_train.shape[0]\n",
    "print('shape:', shape)\n",
    "best_tree, best_fitness = ga.evolve(shape, x_train, y_train)\n",
    "print(f\"Best tree_3: {best_tree} Best fitness_3: {best_fitness}\")"
   ]
  },
  {
   "cell_type": "code",
   "execution_count": 11,
   "metadata": {},
   "outputs": [
    {
     "name": "stdout",
     "output_type": "stream",
     "text": [
      "shape: 2\n"
     ]
    },
    {
     "name": "stderr",
     "output_type": "stream",
     "text": [
      "C:\\Users\\utkuk\\AppData\\Local\\Temp\\ipykernel_11476\\2995611080.py:36: RuntimeWarning: invalid value encountered in sin\n",
      "  return np.sin(left)\n",
      "C:\\Users\\utkuk\\AppData\\Local\\Temp\\ipykernel_11476\\2995611080.py:40: RuntimeWarning: invalid value encountered in tan\n",
      "  return np.tan(left)\n",
      "C:\\Users\\utkuk\\AppData\\Local\\Temp\\ipykernel_11476\\2995611080.py:44: RuntimeWarning: overflow encountered in exp\n",
      "  return np.exp(left) if np.all(left < 1000) else float('inf')\n",
      "C:\\Users\\utkuk\\AppData\\Local\\Temp\\ipykernel_11476\\832001295.py:63: RuntimeWarning: overflow encountered in square\n",
      "  mse_train = np.mean((y_train_splitted - y_predictions_train) ** 2)\n",
      "C:\\Users\\utkuk\\AppData\\Local\\Temp\\ipykernel_11476\\832001295.py:64: RuntimeWarning: overflow encountered in square\n",
      "  mse_val = np.mean((y_val - y_predictions_val) ** 2)\n",
      "C:\\Users\\utkuk\\AppData\\Local\\Temp\\ipykernel_11476\\2995611080.py:19: RuntimeWarning: invalid value encountered in scalar multiply\n",
      "  return left * right\n",
      "C:\\Users\\utkuk\\AppData\\Local\\Temp\\ipykernel_11476\\2995611080.py:42: RuntimeWarning: overflow encountered in exp\n",
      "  return 1/(1 + np.exp(-left))\n",
      "C:\\Users\\utkuk\\AppData\\Local\\Temp\\ipykernel_11476\\2995611080.py:38: RuntimeWarning: invalid value encountered in cos\n",
      "  return np.cos(left)\n",
      "C:\\Users\\utkuk\\AppData\\Local\\Temp\\ipykernel_11476\\2995611080.py:23: RuntimeWarning: invalid value encountered in scalar divide\n",
      "  return left / right\n",
      "C:\\Users\\utkuk\\AppData\\Local\\Temp\\ipykernel_11476\\2995611080.py:17: RuntimeWarning: invalid value encountered in scalar subtract\n",
      "  return left - right\n"
     ]
    },
    {
     "name": "stdout",
     "output_type": "stream",
     "text": [
      "Generation_ 0 Best fitness: 22.60552490836873 Best tree: exp(sigmoid((x[0] + x[1])))\n",
      "Generation_ 1 Best fitness: 21.801655622275085 Best tree: exp(sigmoid((x[0] / x[1])))\n",
      "Generation_ 2 Best fitness: 21.801655622275085 Best tree: exp(sigmoid((x[0] / x[1])))\n"
     ]
    },
    {
     "name": "stderr",
     "output_type": "stream",
     "text": [
      "C:\\Users\\utkuk\\AppData\\Local\\Temp\\ipykernel_11476\\2995611080.py:15: RuntimeWarning: invalid value encountered in scalar add\n",
      "  return left + right\n"
     ]
    },
    {
     "name": "stdout",
     "output_type": "stream",
     "text": [
      "Generation_ 3 Best fitness: 21.581534117988824 Best tree: exp(cos((x[0] * x[1])))\n",
      "Generation_ 4 Best fitness: 21.581534117988824 Best tree: exp(cos((x[0] * x[1])))\n",
      "Generation_ 5 Best fitness: 21.581534117988824 Best tree: exp(cos((x[0] * x[1])))\n",
      "Generation_ 6 Best fitness: 21.581534117988824 Best tree: exp(cos((x[0] * x[1])))\n",
      "Generation_ 7 Best fitness: 21.581534117988824 Best tree: exp(cos((x[0] * x[1])))\n",
      "Generation_ 8 Best fitness: 21.581534117988824 Best tree: exp(cos((x[0] * x[1])))\n",
      "Generation_ 9 Best fitness: 21.581534117988824 Best tree: exp(cos((x[0] * x[1])))\n",
      "Generation_ 10 Best fitness: 21.581534117988824 Best tree: exp(cos((x[0] * x[1])))\n",
      "Generation_ 11 Best fitness: 21.581534117988824 Best tree: exp(cos((x[0] * x[1])))\n",
      "Generation_ 12 Best fitness: 21.581534117988824 Best tree: exp(cos((x[0] * x[1])))\n",
      "Generation_ 13 Best fitness: 21.581534117988824 Best tree: exp(cos((x[0] * x[1])))\n",
      "Generation_ 14 Best fitness: 21.581534117988824 Best tree: exp(cos((x[0] * x[1])))\n",
      "Generation_ 15 Best fitness: 21.581534117988824 Best tree: exp(cos((x[0] * x[1])))\n",
      "Generation_ 16 Best fitness: 21.581534117988824 Best tree: exp(cos((x[0] * x[1])))\n",
      "Generation_ 17 Best fitness: 21.581534117988824 Best tree: exp(cos((x[0] * x[1])))\n",
      "Generation_ 18 Best fitness: 21.581534117988824 Best tree: exp(cos((x[0] * x[1])))\n",
      "Generation_ 19 Best fitness: 21.581534117988824 Best tree: exp(cos((x[0] * x[1])))\n",
      "Best tree_4: exp(cos((x[0] * x[1]))) Best fitness_4: 21.581534117988824\n"
     ]
    }
   ],
   "source": [
    "problem = np.load(f'../data/problem_4.npz')\n",
    "x_train = problem['x']\n",
    "y_train = problem['y']\n",
    "ga = Genetic_Programming(300, 20)\n",
    "shape = x_train.shape[0]\n",
    "print('shape:', shape)\n",
    "best_tree, best_fitness = ga.evolve(shape, x_train, y_train)\n",
    "print(f\"Best tree_4: {best_tree} Best fitness_4: {best_fitness}\")"
   ]
  },
  {
   "cell_type": "code",
   "execution_count": 12,
   "metadata": {},
   "outputs": [
    {
     "name": "stdout",
     "output_type": "stream",
     "text": [
      "shape: 2\n"
     ]
    },
    {
     "name": "stderr",
     "output_type": "stream",
     "text": [
      "C:\\Users\\utkuk\\AppData\\Local\\Temp\\ipykernel_11476\\2995611080.py:42: RuntimeWarning: overflow encountered in exp\n",
      "  return 1/(1 + np.exp(-left))\n",
      "C:\\Users\\utkuk\\AppData\\Local\\Temp\\ipykernel_11476\\2995611080.py:40: RuntimeWarning: invalid value encountered in tan\n",
      "  return np.tan(left)\n",
      "C:\\Users\\utkuk\\AppData\\Local\\Temp\\ipykernel_11476\\2995611080.py:23: RuntimeWarning: invalid value encountered in scalar divide\n",
      "  return left / right\n",
      "C:\\Users\\utkuk\\AppData\\Local\\Temp\\ipykernel_11476\\2995611080.py:38: RuntimeWarning: invalid value encountered in cos\n",
      "  return np.cos(left)\n",
      "C:\\Users\\utkuk\\AppData\\Local\\Temp\\ipykernel_11476\\2995611080.py:36: RuntimeWarning: invalid value encountered in sin\n",
      "  return np.sin(left)\n",
      "C:\\Users\\utkuk\\AppData\\Local\\Temp\\ipykernel_11476\\2995611080.py:44: RuntimeWarning: overflow encountered in exp\n",
      "  return np.exp(left) if np.all(left < 1000) else float('inf')\n",
      "C:\\Users\\utkuk\\AppData\\Local\\Temp\\ipykernel_11476\\832001295.py:63: RuntimeWarning: overflow encountered in square\n",
      "  mse_train = np.mean((y_train_splitted - y_predictions_train) ** 2)\n",
      "C:\\Users\\utkuk\\AppData\\Local\\Temp\\ipykernel_11476\\2995611080.py:17: RuntimeWarning: invalid value encountered in scalar subtract\n",
      "  return left - right\n",
      "C:\\Users\\utkuk\\AppData\\Local\\Temp\\ipykernel_11476\\2995611080.py:15: RuntimeWarning: invalid value encountered in scalar add\n",
      "  return left + right\n"
     ]
    },
    {
     "name": "stdout",
     "output_type": "stream",
     "text": [
      "Generation_ 0 Best fitness: 0.2 Best tree: (cos((x[0] * x[1])) / (inv(0.9927373019055301) * exp(0.5594164038978211)))\n"
     ]
    },
    {
     "name": "stderr",
     "output_type": "stream",
     "text": [
      "C:\\Users\\utkuk\\AppData\\Local\\Temp\\ipykernel_11476\\2995611080.py:19: RuntimeWarning: invalid value encountered in scalar multiply\n",
      "  return left * right\n"
     ]
    },
    {
     "name": "stdout",
     "output_type": "stream",
     "text": [
      "Generation_ 1 Best fitness: 0.2 Best tree: (cos((x[0] * x[1])) / (inv(0.9927373019055301) * exp(0.5594164038978211)))\n",
      "Generation_ 2 Best fitness: 0.15000000000000002 Best tree: (cos(x[0]) / (x[1] / 0.02871653301747079))\n"
     ]
    },
    {
     "name": "stderr",
     "output_type": "stream",
     "text": [
      "C:\\Users\\utkuk\\AppData\\Local\\Temp\\ipykernel_11476\\832001295.py:64: RuntimeWarning: overflow encountered in square\n",
      "  mse_val = np.mean((y_val - y_predictions_val) ** 2)\n"
     ]
    },
    {
     "name": "stdout",
     "output_type": "stream",
     "text": [
      "Generation_ 3 Best fitness: 0.15000000000000002 Best tree: (cos(x[0]) / (x[1] / 0.02871653301747079))\n",
      "Generation_ 4 Best fitness: 0.15000000000000002 Best tree: (cos(x[0]) / (x[1] / 0.02871653301747079))\n",
      "Generation_ 5 Best fitness: 0.15000000000000002 Best tree: (cos(x[0]) / (x[1] / 0.02871653301747079))\n",
      "Generation_ 6 Best fitness: 0.15000000000000002 Best tree: (cos(x[0]) / (x[1] / 0.02871653301747079))\n",
      "Generation_ 7 Best fitness: 0.15000000000000002 Best tree: (cos(x[0]) / (x[1] / 0.02871653301747079))\n",
      "Generation_ 8 Best fitness: 0.15000000000000002 Best tree: (cos(x[0]) / (x[1] / 0.02871653301747079))\n",
      "Generation_ 9 Best fitness: 0.15000000000000002 Best tree: (cos(x[0]) / (x[1] / 0.02871653301747079))\n",
      "Generation_ 10 Best fitness: 0.15000000000000002 Best tree: (cos(x[0]) / (x[1] / 0.02871653301747079))\n",
      "Generation_ 11 Best fitness: 0.15000000000000002 Best tree: (cos(x[0]) / (x[1] / 0.02871653301747079))\n",
      "Generation_ 12 Best fitness: 0.15000000000000002 Best tree: (cos(x[0]) / (x[1] / 0.02871653301747079))\n",
      "Generation_ 13 Best fitness: 0.15000000000000002 Best tree: (cos(x[0]) / (x[1] / 0.02871653301747079))\n",
      "Generation_ 14 Best fitness: 0.15000000000000002 Best tree: (cos(x[0]) / (x[1] / 0.02871653301747079))\n",
      "Generation_ 15 Best fitness: 0.15000000000000002 Best tree: (cos(x[0]) / (x[1] / 0.02871653301747079))\n",
      "Generation_ 16 Best fitness: 0.15000000000000002 Best tree: (cos(x[0]) / (x[1] / 0.02871653301747079))\n",
      "Generation_ 17 Best fitness: 0.15000000000000002 Best tree: (cos(x[0]) / (x[1] / 0.02871653301747079))\n",
      "Generation_ 18 Best fitness: 0.15000000000000002 Best tree: (cos(x[0]) / (x[1] / 0.02871653301747079))\n",
      "Generation_ 19 Best fitness: 0.15000000000000002 Best tree: (cos(x[0]) / (x[1] / 0.02871653301747079))\n",
      "Best tree_5: (cos(x[0]) / (x[1] / 0.02871653301747079)) Best fitness_5: 0.15000000000000002\n"
     ]
    }
   ],
   "source": [
    "problem = np.load(f'../data/problem_5.npz')\n",
    "x_train = problem['x']\n",
    "y_train = problem['y']\n",
    "ga = Genetic_Programming(300, 20)\n",
    "shape = x_train.shape[0]\n",
    "print('shape:', shape)\n",
    "best_tree, best_fitness = ga.evolve(shape, x_train, y_train)\n",
    "print(f\"Best tree_5: {best_tree} Best fitness_5: {best_fitness}\")"
   ]
  },
  {
   "cell_type": "code",
   "execution_count": 13,
   "metadata": {},
   "outputs": [
    {
     "name": "stdout",
     "output_type": "stream",
     "text": [
      "shape: 2\n"
     ]
    },
    {
     "name": "stderr",
     "output_type": "stream",
     "text": [
      "C:\\Users\\utkuk\\AppData\\Local\\Temp\\ipykernel_11476\\2995611080.py:40: RuntimeWarning: invalid value encountered in tan\n",
      "  return np.tan(left)\n",
      "C:\\Users\\utkuk\\AppData\\Local\\Temp\\ipykernel_11476\\2995611080.py:38: RuntimeWarning: invalid value encountered in cos\n",
      "  return np.cos(left)\n",
      "C:\\Users\\utkuk\\AppData\\Local\\Temp\\ipykernel_11476\\2995611080.py:17: RuntimeWarning: invalid value encountered in scalar subtract\n",
      "  return left - right\n",
      "C:\\Users\\utkuk\\AppData\\Local\\Temp\\ipykernel_11476\\2995611080.py:42: RuntimeWarning: overflow encountered in exp\n",
      "  return 1/(1 + np.exp(-left))\n",
      "C:\\Users\\utkuk\\AppData\\Local\\Temp\\ipykernel_11476\\2995611080.py:36: RuntimeWarning: invalid value encountered in sin\n",
      "  return np.sin(left)\n",
      "C:\\Users\\utkuk\\AppData\\Local\\Temp\\ipykernel_11476\\832001295.py:63: RuntimeWarning: overflow encountered in square\n",
      "  mse_train = np.mean((y_train_splitted - y_predictions_train) ** 2)\n",
      "C:\\Users\\utkuk\\AppData\\Local\\Temp\\ipykernel_11476\\832001295.py:64: RuntimeWarning: overflow encountered in square\n",
      "  mse_val = np.mean((y_val - y_predictions_val) ** 2)\n",
      "C:\\Users\\utkuk\\AppData\\Local\\Temp\\ipykernel_11476\\2995611080.py:44: RuntimeWarning: overflow encountered in exp\n",
      "  return np.exp(left) if np.all(left < 1000) else float('inf')\n",
      "C:\\Users\\utkuk\\AppData\\Local\\Temp\\ipykernel_11476\\2995611080.py:19: RuntimeWarning: invalid value encountered in scalar multiply\n",
      "  return left * right\n"
     ]
    },
    {
     "name": "stdout",
     "output_type": "stream",
     "text": [
      "Generation_ 0 Best fitness: 5.8683541086138105 Best tree: (cos(exp(sigmoid(x[0]))) + x[1])\n"
     ]
    },
    {
     "name": "stderr",
     "output_type": "stream",
     "text": [
      "C:\\Users\\utkuk\\AppData\\Local\\Temp\\ipykernel_11476\\2995611080.py:23: RuntimeWarning: invalid value encountered in scalar divide\n",
      "  return left / right\n"
     ]
    },
    {
     "name": "stdout",
     "output_type": "stream",
     "text": [
      "Generation_ 1 Best fitness: 5.8683541086138105 Best tree: (cos(exp(sigmoid(x[0]))) + x[1])\n",
      "Generation_ 2 Best fitness: 5.8683541086138105 Best tree: (cos(exp(sigmoid(x[0]))) + x[1])\n",
      "Generation_ 3 Best fitness: 5.8683541086138105 Best tree: (cos(exp(sigmoid(x[0]))) + x[1])\n",
      "Generation_ 4 Best fitness: 5.8683541086138105 Best tree: (cos(exp(sigmoid(x[0]))) + x[1])\n",
      "Generation_ 5 Best fitness: 5.8683541086138105 Best tree: (cos(exp(sigmoid(x[0]))) + x[1])\n",
      "Generation_ 6 Best fitness: 5.8683541086138105 Best tree: (cos(exp(sigmoid(x[0]))) + x[1])\n",
      "Generation_ 7 Best fitness: 5.8683541086138105 Best tree: (cos(exp(sigmoid(x[0]))) + x[1])\n",
      "Generation_ 8 Best fitness: 5.8683541086138105 Best tree: (cos(exp(sigmoid(x[0]))) + x[1])\n",
      "Generation_ 9 Best fitness: 5.8683541086138105 Best tree: (cos(exp(sigmoid(x[0]))) + x[1])\n",
      "Generation_ 10 Best fitness: 5.8683541086138105 Best tree: (cos(exp(sigmoid(x[0]))) + x[1])\n",
      "Generation_ 11 Best fitness: 5.8683541086138105 Best tree: (cos(exp(sigmoid(x[0]))) + x[1])\n",
      "Generation_ 12 Best fitness: 5.8683541086138105 Best tree: (cos(exp(sigmoid(x[0]))) + x[1])\n",
      "Generation_ 13 Best fitness: 5.8683541086138105 Best tree: (cos(exp(sigmoid(x[0]))) + x[1])\n",
      "Generation_ 14 Best fitness: 5.8683541086138105 Best tree: (cos(exp(sigmoid(x[0]))) + x[1])\n",
      "Generation_ 15 Best fitness: 5.8683541086138105 Best tree: (cos(exp(sigmoid(x[0]))) + x[1])\n",
      "Generation_ 16 Best fitness: 5.8683541086138105 Best tree: (cos(exp(sigmoid(x[0]))) + x[1])\n",
      "Generation_ 17 Best fitness: 5.8683541086138105 Best tree: (cos(exp(sigmoid(x[0]))) + x[1])\n",
      "Generation_ 18 Best fitness: 5.8683541086138105 Best tree: (cos(exp(sigmoid(x[0]))) + x[1])\n",
      "Generation_ 19 Best fitness: 5.8683541086138105 Best tree: (cos(exp(sigmoid(x[0]))) + x[1])\n",
      "Best tree_6: (cos(exp(sigmoid(x[0]))) + x[1]) Best fitness_6: 5.8683541086138105\n"
     ]
    }
   ],
   "source": [
    "problem = np.load(f'../data/problem_6.npz')\n",
    "x_train = problem['x']\n",
    "y_train = problem['y']\n",
    "ga = Genetic_Programming(300, 20)\n",
    "shape = x_train.shape[0]\n",
    "print('shape:', shape)\n",
    "best_tree, best_fitness = ga.evolve(shape, x_train, y_train)\n",
    "print(f\"Best tree_6: {best_tree} Best fitness_6: {best_fitness}\")"
   ]
  },
  {
   "cell_type": "code",
   "execution_count": 14,
   "metadata": {},
   "outputs": [
    {
     "name": "stdout",
     "output_type": "stream",
     "text": [
      "shape: 2\n"
     ]
    },
    {
     "name": "stderr",
     "output_type": "stream",
     "text": [
      "C:\\Users\\utkuk\\AppData\\Local\\Temp\\ipykernel_11476\\2995611080.py:42: RuntimeWarning: overflow encountered in exp\n",
      "  return 1/(1 + np.exp(-left))\n",
      "C:\\Users\\utkuk\\AppData\\Local\\Temp\\ipykernel_11476\\2995611080.py:36: RuntimeWarning: invalid value encountered in sin\n",
      "  return np.sin(left)\n",
      "C:\\Users\\utkuk\\AppData\\Local\\Temp\\ipykernel_11476\\2995611080.py:40: RuntimeWarning: invalid value encountered in tan\n",
      "  return np.tan(left)\n",
      "C:\\Users\\utkuk\\AppData\\Local\\Temp\\ipykernel_11476\\832001295.py:63: RuntimeWarning: overflow encountered in square\n",
      "  mse_train = np.mean((y_train_splitted - y_predictions_train) ** 2)\n",
      "C:\\Users\\utkuk\\AppData\\Local\\Temp\\ipykernel_11476\\2995611080.py:44: RuntimeWarning: overflow encountered in exp\n",
      "  return np.exp(left) if np.all(left < 1000) else float('inf')\n",
      "C:\\Users\\utkuk\\AppData\\Local\\Temp\\ipykernel_11476\\2995611080.py:38: RuntimeWarning: invalid value encountered in cos\n",
      "  return np.cos(left)\n",
      "C:\\Users\\utkuk\\AppData\\Local\\Temp\\ipykernel_11476\\2995611080.py:23: RuntimeWarning: invalid value encountered in scalar divide\n",
      "  return left / right\n",
      "C:\\Users\\utkuk\\AppData\\Local\\Temp\\ipykernel_11476\\2995611080.py:19: RuntimeWarning: invalid value encountered in scalar multiply\n",
      "  return left * right\n",
      "C:\\Users\\utkuk\\AppData\\Local\\Temp\\ipykernel_11476\\832001295.py:64: RuntimeWarning: overflow encountered in square\n",
      "  mse_val = np.mean((y_val - y_predictions_val) ** 2)\n"
     ]
    },
    {
     "name": "stdout",
     "output_type": "stream",
     "text": [
      "Generation_ 0 Best fitness: 761.3717313874813 Best tree: (inv(sin(sigmoid(x[0]))) + x[1])\n",
      "Generation_ 1 Best fitness: 757.8892236499787 Best tree: exp(exp(cos(sin(x[0]))))\n"
     ]
    },
    {
     "name": "stderr",
     "output_type": "stream",
     "text": [
      "C:\\Users\\utkuk\\AppData\\Local\\Temp\\ipykernel_11476\\2995611080.py:15: RuntimeWarning: invalid value encountered in scalar add\n",
      "  return left + right\n"
     ]
    },
    {
     "name": "stdout",
     "output_type": "stream",
     "text": [
      "Generation_ 2 Best fitness: 757.8892236499787 Best tree: exp(exp(cos(sin(x[0]))))\n",
      "Generation_ 3 Best fitness: 757.8892236499787 Best tree: exp(exp(cos(sin(x[0]))))\n"
     ]
    },
    {
     "name": "stderr",
     "output_type": "stream",
     "text": [
      "C:\\Users\\utkuk\\AppData\\Local\\Temp\\ipykernel_11476\\2995611080.py:17: RuntimeWarning: invalid value encountered in scalar subtract\n",
      "  return left - right\n"
     ]
    },
    {
     "name": "stdout",
     "output_type": "stream",
     "text": [
      "Generation_ 4 Best fitness: 757.8892236499787 Best tree: exp(exp(cos(sin(x[0]))))\n",
      "Generation_ 5 Best fitness: 663.2022925081708 Best tree: inv(sigmoid((x[0] + x[1])))\n",
      "Generation_ 6 Best fitness: 663.2022925081708 Best tree: inv(sigmoid((x[0] + x[1])))\n",
      "Generation_ 7 Best fitness: 626.076951791434 Best tree: exp((x[0] * x[1]))\n",
      "Generation_ 8 Best fitness: 626.076951791434 Best tree: exp((x[0] * x[1]))\n",
      "Generation_ 9 Best fitness: 626.076951791434 Best tree: exp((x[0] * x[1]))\n",
      "Generation_ 10 Best fitness: 626.076951791434 Best tree: exp((x[0] * x[1]))\n",
      "Generation_ 11 Best fitness: 626.076951791434 Best tree: exp((x[0] * x[1]))\n",
      "Generation_ 12 Best fitness: 626.076951791434 Best tree: exp((x[0] * x[1]))\n",
      "Generation_ 13 Best fitness: 626.076951791434 Best tree: exp((x[0] * x[1]))\n",
      "Generation_ 14 Best fitness: 626.076951791434 Best tree: exp((x[0] * x[1]))\n",
      "Generation_ 15 Best fitness: 626.076951791434 Best tree: exp((x[0] * x[1]))\n",
      "Generation_ 16 Best fitness: 626.076951791434 Best tree: exp((x[0] * x[1]))\n",
      "Generation_ 17 Best fitness: 626.076951791434 Best tree: exp((x[0] * x[1]))\n",
      "Generation_ 18 Best fitness: 626.076951791434 Best tree: exp((x[0] * x[1]))\n",
      "Generation_ 19 Best fitness: 626.076951791434 Best tree: exp((x[0] * x[1]))\n",
      "Best tree_7: exp((x[0] * x[1])) Best fitness_7: 626.076951791434\n"
     ]
    }
   ],
   "source": [
    "problem = np.load(f'../data/problem_7.npz')\n",
    "x_train = problem['x']\n",
    "y_train = problem['y']\n",
    "ga = Genetic_Programming(300, 20)\n",
    "shape = x_train.shape[0]\n",
    "print('shape:', shape)\n",
    "best_tree, best_fitness = ga.evolve(shape, x_train, y_train)\n",
    "print(f\"Best tree_7: {best_tree} Best fitness_7: {best_fitness}\")"
   ]
  },
  {
   "cell_type": "code",
   "execution_count": 9,
   "metadata": {},
   "outputs": [
    {
     "name": "stdout",
     "output_type": "stream",
     "text": [
      "shape: 6\n"
     ]
    },
    {
     "name": "stderr",
     "output_type": "stream",
     "text": [
      "C:\\Users\\utkuk\\AppData\\Local\\Temp\\ipykernel_11476\\2995611080.py:44: RuntimeWarning: overflow encountered in exp\n",
      "  return np.exp(left) if np.all(left < 1000) else float('inf')\n",
      "C:\\Users\\utkuk\\AppData\\Local\\Temp\\ipykernel_11476\\832001295.py:63: RuntimeWarning: overflow encountered in square\n",
      "  mse_train = np.mean((y_train_splitted - y_predictions_train) ** 2)\n",
      "C:\\Users\\utkuk\\AppData\\Local\\Temp\\ipykernel_11476\\832001295.py:64: RuntimeWarning: overflow encountered in square\n",
      "  mse_val = np.mean((y_val - y_predictions_val) ** 2)\n",
      "C:\\Users\\utkuk\\AppData\\Local\\Temp\\ipykernel_11476\\2995611080.py:42: RuntimeWarning: overflow encountered in exp\n",
      "  return 1/(1 + np.exp(-left))\n",
      "C:\\Users\\utkuk\\AppData\\Local\\Temp\\ipykernel_11476\\2995611080.py:40: RuntimeWarning: invalid value encountered in tan\n",
      "  return np.tan(left)\n",
      "C:\\Users\\utkuk\\AppData\\Local\\Temp\\ipykernel_11476\\2995611080.py:36: RuntimeWarning: invalid value encountered in sin\n",
      "  return np.sin(left)\n"
     ]
    },
    {
     "name": "stdout",
     "output_type": "stream",
     "text": [
      "Generation_ 0 Best fitness: 22808361.13566367 Best tree: (((exp(x[5]) - (sigmoid(x[0]) + x[3])) + (tan(sigmoid(x[1])) + x[2])) + x[4])\n",
      "Generation_ 1 Best fitness: 22808361.13566367 Best tree: (((exp(x[5]) - (sigmoid(x[0]) + x[3])) + (tan(sigmoid(x[1])) + x[2])) + x[4])\n",
      "Generation_ 2 Best fitness: 22806813.515682444 Best tree: (((((exp(x[5]) + x[0]) + x[3]) + x[1]) + x[2]) + x[4])\n",
      "Generation_ 3 Best fitness: 22806813.515682444 Best tree: (((((exp(x[5]) + x[0]) + x[3]) + x[1]) + x[2]) + x[4])\n",
      "Generation_ 4 Best fitness: 22792042.371347327 Best tree: ((((exp(x[5]) - (exp(x[0]) + x[3])) + x[1]) + x[2]) + x[4])\n",
      "Generation_ 5 Best fitness: 22792042.371347327 Best tree: ((((exp(x[5]) - (exp(x[0]) + x[3])) + x[1]) + x[2]) + x[4])\n",
      "Generation_ 6 Best fitness: 22792042.371347327 Best tree: ((((exp(x[5]) - (exp(x[0]) + x[3])) + x[1]) + x[2]) + x[4])\n",
      "Generation_ 7 Best fitness: 22792042.371347327 Best tree: ((((exp(x[5]) - (exp(x[0]) + x[3])) + x[1]) + x[2]) + x[4])\n",
      "Generation_ 8 Best fitness: 22792042.371347327 Best tree: ((((exp(x[5]) - (exp(x[0]) + x[3])) + x[1]) + x[2]) + x[4])\n",
      "Generation_ 9 Best fitness: 22792042.371347327 Best tree: ((((exp(x[5]) - (exp(x[0]) + x[3])) + x[1]) + x[2]) + x[4])\n",
      "Generation_ 10 Best fitness: 22792042.371347327 Best tree: ((((exp(x[5]) - (exp(x[0]) + x[3])) + x[1]) + x[2]) + x[4])\n",
      "Generation_ 11 Best fitness: 22792042.371347327 Best tree: ((((exp(x[5]) - (exp(x[0]) + x[3])) + x[1]) + x[2]) + x[4])\n",
      "Generation_ 12 Best fitness: 22792042.371347327 Best tree: ((((exp(x[5]) - (exp(x[0]) + x[3])) + x[1]) + x[2]) + x[4])\n",
      "Generation_ 13 Best fitness: 22792042.371347327 Best tree: ((((exp(x[5]) - (exp(x[0]) + x[3])) + x[1]) + x[2]) + x[4])\n"
     ]
    },
    {
     "name": "stderr",
     "output_type": "stream",
     "text": [
      "C:\\Users\\utkuk\\AppData\\Local\\Temp\\ipykernel_11476\\2995611080.py:38: RuntimeWarning: invalid value encountered in cos\n",
      "  return np.cos(left)\n"
     ]
    },
    {
     "name": "stdout",
     "output_type": "stream",
     "text": [
      "Generation_ 14 Best fitness: 22792042.371347327 Best tree: ((((exp(x[5]) - (exp(x[0]) + x[3])) + x[1]) + x[2]) + x[4])\n",
      "Generation_ 15 Best fitness: 22792042.371347327 Best tree: ((((exp(x[5]) - (exp(x[0]) + x[3])) + x[1]) + x[2]) + x[4])\n",
      "Generation_ 16 Best fitness: 22792042.371347327 Best tree: ((((exp(x[5]) - (exp(x[0]) + x[3])) + x[1]) + x[2]) + x[4])\n",
      "Generation_ 17 Best fitness: 22792042.371347327 Best tree: ((((exp(x[5]) - (exp(x[0]) + x[3])) + x[1]) + x[2]) + x[4])\n",
      "Generation_ 18 Best fitness: 22792042.371347327 Best tree: ((((exp(x[5]) - (exp(x[0]) + x[3])) + x[1]) + x[2]) + x[4])\n",
      "Generation_ 19 Best fitness: 21321683.329181872 Best tree: (((exp(x[5]) * (exp(x[0]) + x[3])) - (tan(inv(x[1])) + x[2])) + x[4])\n",
      "Best tree_8: (((exp(x[5]) * (exp(x[0]) + x[3])) - (tan(inv(x[1])) + x[2])) + x[4]) Best fitness_8: 21321683.329181872\n"
     ]
    }
   ],
   "source": [
    "problem = np.load(f'../data/problem_8.npz')\n",
    "x_train = problem['x']\n",
    "y_train = problem['y']\n",
    "ga = Genetic_Programming(300, 20)\n",
    "shape = x_train.shape[0]\n",
    "print('shape:', shape)\n",
    "best_tree, best_fitness = ga.evolve(shape, x_train, y_train)\n",
    "print(f\"Best tree_8: {best_tree} Best fitness_8: {best_fitness}\")"
   ]
  }
 ],
 "metadata": {
  "kernelspec": {
   "display_name": "base",
   "language": "python",
   "name": "python3"
  },
  "language_info": {
   "codemirror_mode": {
    "name": "ipython",
    "version": 3
   },
   "file_extension": ".py",
   "mimetype": "text/x-python",
   "name": "python",
   "nbconvert_exporter": "python",
   "pygments_lexer": "ipython3",
   "version": "3.11.7"
  }
 },
 "nbformat": 4,
 "nbformat_minor": 2
}
