{
 "cells": [
  {
   "cell_type": "markdown",
   "metadata": {},
   "source": [
    "Copyright **`(c)`** 2024 Giovanni Squillero `<giovanni.squillero@polito.it>`  \n",
    "[`https://github.com/squillero/computational-intelligence`](https://github.com/squillero/computational-intelligence)  \n",
    "Free under certain conditions — see the [`license`](https://github.com/squillero/computational-intelligence/blob/master/LICENSE.md) for details.  "
   ]
  },
  {
   "cell_type": "code",
   "execution_count": 49,
   "metadata": {},
   "outputs": [],
   "source": [
    "import numpy as np"
   ]
  },
  {
   "cell_type": "code",
   "execution_count": 50,
   "metadata": {},
   "outputs": [],
   "source": [
    "# def true_f(x: np.ndarray) -> np.ndarray:\n",
    "#     return x[0] + np.sin(x[1]) / 5"
   ]
  },
  {
   "cell_type": "code",
   "execution_count": 51,
   "metadata": {},
   "outputs": [],
   "source": [
    "# TEST_SIZE = 10_000\n",
    "# TRAIN_SIZE = 1000\n",
    "\n",
    "# x_validation = np.vstack(\n",
    "#     [\n",
    "#         np.random.random_sample(size=TEST_SIZE) * 2 * np.pi - np.pi,\n",
    "#         np.random.random_sample(size=TEST_SIZE) * 2 - 1,\n",
    "#     ]\n",
    "# )\n",
    "# y_validation = true_f(x_validation)\n",
    "# train_indexes = np.random.choice(TEST_SIZE, size=TRAIN_SIZE, replace=False)\n",
    "# x_train = x_validation[:, train_indexes]\n",
    "# y_train = y_validation[train_indexes]\n",
    "# assert np.all(y_train == true_f(x_train)), \"D'ho\"\n",
    "\n",
    "# np.savez('problem_0.npz', x=x_train, y=y_train)\n"
   ]
  },
  {
   "cell_type": "markdown",
   "metadata": {},
   "source": [
    "## Evaluation"
   ]
  },
  {
   "cell_type": "code",
   "execution_count": 52,
   "metadata": {},
   "outputs": [],
   "source": [
    "import s328174"
   ]
  },
  {
   "cell_type": "code",
   "execution_count": 53,
   "metadata": {},
   "outputs": [
    {
     "data": {
      "text/plain": [
       "((6, 50000), (50000,))"
      ]
     },
     "execution_count": 53,
     "metadata": {},
     "output_type": "execute_result"
    }
   ],
   "source": [
    "problem = np.load('./data/problem_8.npz')\n",
    "x = problem['x']\n",
    "y = problem['y']\n",
    "x.shape, y.shape"
   ]
  },
  {
   "cell_type": "code",
   "execution_count": 54,
   "metadata": {},
   "outputs": [
    {
     "name": "stdout",
     "output_type": "stream",
     "text": [
      "MSE (train): 2.13217e+09\n",
      "MSE (real) : 2.13217e+09\n"
     ]
    }
   ],
   "source": [
    "print(f\"MSE (train): {100*np.square(y-s328174.f8(x)).sum()/len(y):g}\")\n",
    "print(f\"MSE (real) : {100*np.square(y-s328174.f8(x)).sum()/len(y):g}\")"
   ]
  },
  {
   "cell_type": "code",
   "execution_count": null,
   "metadata": {},
   "outputs": [],
   "source": []
  }
 ],
 "metadata": {
  "kernelspec": {
   "display_name": "base",
   "language": "python",
   "name": "python3"
  },
  "language_info": {
   "codemirror_mode": {
    "name": "ipython",
    "version": 3
   },
   "file_extension": ".py",
   "mimetype": "text/x-python",
   "name": "python",
   "nbconvert_exporter": "python",
   "pygments_lexer": "ipython3",
   "version": "3.11.7"
  }
 },
 "nbformat": 4,
 "nbformat_minor": 2
}
